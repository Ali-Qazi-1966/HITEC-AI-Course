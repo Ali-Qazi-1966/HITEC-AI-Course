{
 "cells": [
  {
   "cell_type": "code",
   "execution_count": null,
   "id": "0edc5c67",
   "metadata": {},
   "outputs": [
    {
     "name": "stdout",
     "output_type": "stream",
     "text": [
      "==== Max & Min of Flattened Array ====\n",
      "\n",
      "Original flattened array:\n",
      "[[0 1]\n",
      " [2 3]]\n",
      "\n",
      "Maximum value of the above flattened array: 3\n",
      "Minimum value of the above flattened array: 0\n"
     ]
    }
   ],
   "source": [
    "# Lab05 - Task 01\n",
    "# Write a Python program to find the maximum and minimum value of a given flattened array.\n",
    "\n",
    "print(\"==== Max & Min of Flattened Array ====\\n\")\n",
    "\n",
    "import numpy as np\n",
    "\n",
    "# Original 2D array\n",
    "array = np.array([[0, 1], [2, 3]])\n",
    "print(\"Original flattened array:\")\n",
    "print(array)\n",
    "\n",
    "# Flatten the array using ravel()\n",
    "flat_array = np.ravel(array)\n",
    "\n",
    "# Find maximum and minimum using NumPy functions\n",
    "max_value = np.max(flat_array)\n",
    "min_value = np.min(flat_array)\n",
    "\n",
    "print(\"\\nMaximum value of the above flattened array:\", max_value)\n",
    "print(\"Minimum value of the above flattened array:\", min_value)"
   ]
  },
  {
   "cell_type": "code",
   "execution_count": null,
   "id": "c263fd0d",
   "metadata": {},
   "outputs": [
    {
     "name": "stdout",
     "output_type": "stream",
     "text": [
      "==== 3x3 Matrix with Values from 2 to 10 ====\n",
      "\n",
      "[[ 2  3  4]\n",
      " [ 5  6  7]\n",
      " [ 8  9 10]]\n"
     ]
    }
   ],
   "source": [
    "# Lab05 - Task 02\n",
    "# Create a 3x3 matrix with values ranging from 2 to 10.\n",
    "\n",
    "print(\"==== 3x3 Matrix with Values from 2 to 10 ====\\n\")\n",
    "\n",
    "import numpy as np\n",
    "\n",
    "# Create a 3x3 matrix with values from 2 to 10\n",
    "matrix = np.arange(2, 11).reshape(3, 3)\n",
    "print(matrix)"
   ]
  },
  {
   "cell_type": "code",
   "execution_count": 7,
   "id": "d0eb5c2e",
   "metadata": {},
   "outputs": [
    {
     "name": "stdout",
     "output_type": "stream",
     "text": [
      "==== Convert Array to Float Type ====\n",
      "\n",
      "Original array: [1 2 3 4]\n",
      "Array converted to a float type: [1. 2. 3. 4.]\n"
     ]
    }
   ],
   "source": [
    "# Lab05 - Task 03\n",
    "# Write a NumPy program to convert an array to a float type.\n",
    "\n",
    "print(\"==== Convert Array to Float Type ====\\n\")\n",
    "\n",
    "import numpy as np\n",
    "\n",
    "# Original array\n",
    "array = np.array([1, 2, 3, 4])\n",
    "print(\"Original array:\", array)\n",
    "\n",
    "# Convert array to float type\n",
    "float_array = array.astype(float)\n",
    "print(\"Array converted to a float type:\", float_array)"
   ]
  },
  {
   "cell_type": "code",
   "execution_count": 8,
   "id": "6d3df85d",
   "metadata": {},
   "outputs": [
    {
     "name": "stdout",
     "output_type": "stream",
     "text": [
      "==== Matrix Multiplication and Transpose ====\n",
      "\n",
      "Result of M1 x M2:\n",
      " [[5 5]\n",
      " [2 1]]\n",
      "\n",
      "Transpose of the resultant matrix:\n",
      " [[5 2]\n",
      " [5 1]]\n"
     ]
    }
   ],
   "source": [
    "# Lab05 - Task 04\n",
    "# Multiply 2x2 matrices and take the transpose of the resultant matrix.\n",
    "\n",
    "print(\"==== Matrix Multiplication and Transpose ====\\n\")\n",
    "\n",
    "import numpy as np\n",
    "\n",
    "# Define the matrices\n",
    "M1 = np.array([[5, 5], [1, 2]])\n",
    "M2 = np.array([[0, 1], [1, 0]])\n",
    "\n",
    "# Multiply the matrices\n",
    "result = np.dot(M1, M2)\n",
    "print(\"Result of M1 x M2:\\n\", result)\n",
    "\n",
    "# Take the transpose of the result\n",
    "transpose_result = np.transpose(result)\n",
    "print(\"\\nTranspose of the resultant matrix:\\n\", transpose_result)\n"
   ]
  },
  {
   "cell_type": "code",
   "execution_count": 10,
   "id": "c3565890",
   "metadata": {},
   "outputs": [
    {
     "name": "stdout",
     "output_type": "stream",
     "text": [
      "Inverse of the matrix:\n",
      " [[ 0.13368984  0.10695187  0.02139037 -0.09090909]\n",
      " [-0.00229183  0.02673797  0.14820474 -0.12987013]\n",
      " [-0.12987013  0.18181818  0.06493506 -0.02597403]\n",
      " [ 0.11000764 -0.28342246 -0.11382735  0.23376623]]\n"
     ]
    }
   ],
   "source": [
    "import numpy as np\n",
    "\n",
    "# Define the matrix\n",
    "matrix = np.array([\n",
    "    [6, 1, 1, 3],\n",
    "    [4, -2, 5, 1],\n",
    "    [2, 8, 7, 6],\n",
    "    [3, 1, 9, 7]\n",
    "])\n",
    "\n",
    "# Find the inverse\n",
    "inverse_matrix = np.linalg.inv(matrix)\n",
    "\n",
    "# Print the result\n",
    "print(\"Inverse of the matrix:\\n\", inverse_matrix)\n"
   ]
  }
 ],
 "metadata": {
  "kernelspec": {
   "display_name": "Python 3",
   "language": "python",
   "name": "python3"
  },
  "language_info": {
   "codemirror_mode": {
    "name": "ipython",
    "version": 3
   },
   "file_extension": ".py",
   "mimetype": "text/x-python",
   "name": "python",
   "nbconvert_exporter": "python",
   "pygments_lexer": "ipython3",
   "version": "3.14.0"
  }
 },
 "nbformat": 4,
 "nbformat_minor": 5
}
