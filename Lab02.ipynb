{
 "cells": [
  {
   "cell_type": "code",
   "execution_count": null,
   "id": "5fb1ff67",
   "metadata": {},
   "outputs": [
    {
     "name": "stdout",
     "output_type": "stream",
     "text": [
      "==== String Checker ====\n",
      "\n",
      "Number of strings with same first and last character =  4\n"
     ]
    }
   ],
   "source": [
    "# Lab 2 - Task 01\n",
    "# Count the number of strings where the string length is 2 or more\n",
    "# and the first and last character are the same.\n",
    "\n",
    "print(\"==== String Checker ====\\n\")\n",
    "\n",
    "# list\n",
    "strings = ['abc', 'xyz', 'aba', '1221', 'xyzzyx', 'aa', '122']\n",
    "\n",
    "count = 0\n",
    "\n",
    "for s in strings:\n",
    "    if len(s) >= 2 and s[0] == s[-1]:\n",
    "        count = count + 1\n",
    "\n",
    "print(\"Number of strings with same first and last character = \", count)"
   ]
  },
  {
   "cell_type": "code",
   "execution_count": 4,
   "id": "090571a7",
   "metadata": {},
   "outputs": [
    {
     "name": "stdout",
     "output_type": "stream",
     "text": [
      "==== Sum and Product of Tuple ====\n",
      "\n",
      "Sum is = 15\n",
      "Product is = 96\n"
     ]
    }
   ],
   "source": [
    "# Lab 2 - Task 02\n",
    "# Find the sum and product of numbers in a tuple.\n",
    "\n",
    "print(\"==== Sum and Product of Tuple ====\\n\")\n",
    "\n",
    "numbers = (1, 2, 4, 2, 6)\n",
    "\n",
    "# Calculate sum\n",
    "total = 0\n",
    "for n in numbers:\n",
    "    total = total + n\n",
    "\n",
    "# Calculate product\n",
    "product = 1\n",
    "for n in numbers:\n",
    "    product = product * n\n",
    "\n",
    "print(\"Sum is =\", total)\n",
    "print(\"Product is =\", product)"
   ]
  },
  {
   "cell_type": "code",
   "execution_count": null,
   "id": "c1f3a09c",
   "metadata": {},
   "outputs": [
    {
     "name": "stdout",
     "output_type": "stream",
     "text": [
      "==== Largest Number Finder ====\n",
      "\n",
      "The largest number is = 6\n"
     ]
    }
   ],
   "source": [
    "# Lab 2 - Task 03\n",
    "# Write a program to print the largest number in a list.\n",
    "\n",
    "print(\"==== Largest Number Finder ====\\n\")\n",
    "\n",
    "numbers = [1, 2, 4, 2, 6]\n",
    "\n",
    "largest = numbers[0]\n",
    "\n",
    "for n in numbers:\n",
    "    if n > largest:\n",
    "        largest = n\n",
    "\n",
    "print(\"The largest number is =\", largest)"
   ]
  },
  {
   "cell_type": "code",
   "execution_count": 6,
   "id": "f70e3e23",
   "metadata": {},
   "outputs": [
    {
     "name": "stdout",
     "output_type": "stream",
     "text": [
      "==== Remove Empty Tuples ====\n",
      "\n",
      "Result = [('',), ('a', 'b'), ('a', 'b', 'c'), ('d',)]\n"
     ]
    }
   ],
   "source": [
    "# Lab 2 - Task 04\n",
    "# Write a Python program to remove empty tuples from a list of tuples.\n",
    "\n",
    "print(\"==== Remove Empty Tuples ====\\n\")\n",
    "\n",
    "L = [(), (), ('',), ('a', 'b'), (), ('a', 'b', 'c'), (), ('d',)]\n",
    "\n",
    "new_list = []\n",
    "\n",
    "for t in L:\n",
    "    if t:   # empty tuples are False, non-empty are True\n",
    "        new_list.append(t)\n",
    "\n",
    "print(\"Result =\", new_list)"
   ]
  },
  {
   "cell_type": "code",
   "execution_count": null,
   "id": "36a93397",
   "metadata": {},
   "outputs": [
    {
     "name": "stdout",
     "output_type": "stream",
     "text": [
      "==== Dictionary Generator ====\n",
      "\n",
      "Output: {'1': 1, '2': 4, '3': 9, '4': 16}\n"
     ]
    }
   ],
   "source": [
    "# Lab 2 - Task 05\n",
    "# Write a Python script to generate and print a dictionary\n",
    "# that contains a number (between 1 and n) in the form ('x', x*x).\n",
    "\n",
    "print(\"==== Dictionary Generator ====\\n\")\n",
    "\n",
    "n = int(input(\"Enter a number: \"))\n",
    "\n",
    "result = {}\n",
    "\n",
    "for x in range(1, n + 1):\n",
    "    result[str(x)] = x * x\n",
    "\n",
    "print(\"Output =\", result)"
   ]
  },
  {
   "cell_type": "code",
   "execution_count": null,
   "id": "585c1f1a",
   "metadata": {},
   "outputs": [
    {
     "name": "stdout",
     "output_type": "stream",
     "text": [
      "==== Number to Words Converter ====\n",
      "\n",
      "\n",
      "In words =\n",
      "One Two Three Four Five Six Seven Eight Nine "
     ]
    }
   ],
   "source": [
    "# Lab 2 - Task 06\n",
    "# Create a program using Dictionary that takes numbers as input\n",
    "# and prints them in words.\n",
    "\n",
    "print(\"==== Number to Words Converter ====\\n\")\n",
    "\n",
    "# Dictionary mapping digits to words, GENIUS\n",
    "num_words = {\n",
    "    '0': 'Zero',\n",
    "    '1': 'One',\n",
    "    '2': 'Two',\n",
    "    '3': 'Three',\n",
    "    '4': 'Four',\n",
    "    '5': 'Five',\n",
    "    '6': 'Six',\n",
    "    '7': 'Seven',\n",
    "    '8': 'Eight',\n",
    "    '9': 'Nine'\n",
    "}\n",
    "\n",
    "number = input(\"Enter a number: \")\n",
    "\n",
    "print(\"\\nIn words =\")\n",
    "\n",
    "for digit in number:\n",
    "    if digit in num_words:\n",
    "        print(num_words[digit], end=\" \")"
   ]
  }
 ],
 "metadata": {
  "kernelspec": {
   "display_name": "Python 3",
   "language": "python",
   "name": "python3"
  },
  "language_info": {
   "codemirror_mode": {
    "name": "ipython",
    "version": 3
   },
   "file_extension": ".py",
   "mimetype": "text/x-python",
   "name": "python",
   "nbconvert_exporter": "python",
   "pygments_lexer": "ipython3",
   "version": "3.14.0"
  }
 },
 "nbformat": 4,
 "nbformat_minor": 5
}
