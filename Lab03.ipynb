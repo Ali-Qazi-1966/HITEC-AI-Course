{
 "cells": [
  {
   "cell_type": "code",
   "execution_count": 1,
   "id": "49995517",
   "metadata": {},
   "outputs": [
    {
     "name": "stdout",
     "output_type": "stream",
     "text": [
      "==== Factorial Calculator ====\n",
      "\n",
      "Factorial of 5 is = 120\n"
     ]
    }
   ],
   "source": [
    "# Lab 3 - Task 01\n",
    "# Write a Python function to calculate the factorial of a number.\n",
    "\n",
    "print(\"==== Factorial Calculator ====\\n\")\n",
    "\n",
    "def factorial(n):\n",
    "    result = 1\n",
    "    for i in range(1, n + 1):\n",
    "        result = result * i\n",
    "    return result\n",
    "\n",
    "# Take input from user\n",
    "num = int(input(\"Enter a non-negative integer = \"))\n",
    "\n",
    "if num < 0:\n",
    "    print(\"Factorial is not defined for negative numbers.\")\n",
    "else:\n",
    "    print(\"Factorial of\", num, \"is =\", factorial(num))"
   ]
  },
  {
   "cell_type": "code",
   "execution_count": null,
   "id": "99280e5d",
   "metadata": {},
   "outputs": [
    {
     "name": "stdout",
     "output_type": "stream",
     "text": [
      "==== Unique List Generator ====\n",
      "\n",
      "Original List: [1, 2, 3, 3, 4, 4, 5, 3, 7, 5]\n",
      "Unique List: [1, 2, 3, 4, 5, 7]\n"
     ]
    }
   ],
   "source": [
    "# Lab 3 - Task 02\n",
    "# Write a Python function that takes a list and returns a new list with unique elements.\n",
    "# Sample List : [1,2,3,3,4,4,5,3,7,5]\n",
    "# Unique List : [1, 2, 3, 4, 5, 7]\n",
    "\n",
    "print(\"==== Unique List Generator ====\\n\")\n",
    "\n",
    "def unique_list(lst):\n",
    "    unique = []\n",
    "    for item in lst:\n",
    "        if item not in unique:\n",
    "            unique.append(item)\n",
    "    return unique\n",
    "\n",
    "# Sample list\n",
    "sample_list = [1, 2, 3, 3, 4, 4, 5, 3, 7, 5]\n",
    "\n",
    "print(\"Original List:\", sample_list)\n",
    "print(\"Unique List:\", unique_list(sample_list))\n"
   ]
  },
  {
   "cell_type": "code",
   "execution_count": 4,
   "id": "276bd883",
   "metadata": {},
   "outputs": [
    {
     "name": "stdout",
     "output_type": "stream",
     "text": [
      "==== Even Numbers, Sum & Product ====\n",
      "\n",
      "2\n",
      "4\n",
      "6\n",
      "8\n",
      "10\n",
      "12\n",
      "14\n",
      "16\n",
      "18\n",
      "20\n",
      "\n",
      "Sum of even numbers = 110\n",
      "Product of even numbers = 3715891200\n"
     ]
    }
   ],
   "source": [
    "# Lab 3 - Task 03\n",
    "# Write a Python function to show the first ‘n’ even numbers \n",
    "# and then return the sum and product of those even numbers outside the function.\n",
    "\n",
    "print(\"==== Even Numbers, Sum & Product ====\\n\")\n",
    "\n",
    "def show_even_numbers(limit):\n",
    "    for i in range(1, limit + 1):\n",
    "        print(i * 2)\n",
    "\n",
    "# Input from user\n",
    "limit = int(input(\"Enter how many even numbers you want: \"))\n",
    "\n",
    "# Show even numbers\n",
    "show_even_numbers(limit)\n",
    "\n",
    "# Calculate sum and product\n",
    "sum_even = 0\n",
    "product_even = 1\n",
    "\n",
    "for i in range(1, limit + 1):\n",
    "    num = i * 2\n",
    "    sum_even = sum_even + num\n",
    "    product_even = product_even * num\n",
    "\n",
    "print(\"\\nSum of even numbers =\", sum_even)\n",
    "print(\"Product of even numbers =\", product_even)\n"
   ]
  },
  {
   "cell_type": "code",
   "execution_count": 5,
   "id": "66fc8256",
   "metadata": {},
   "outputs": [
    {
     "name": "stdout",
     "output_type": "stream",
     "text": [
      "==== String Matcher ====\n",
      "\n",
      "\n",
      "The strings match!\n"
     ]
    }
   ],
   "source": [
    "# Lab 3 - Task 04\n",
    "# Write a Python program to match two strings using functions.\n",
    "\n",
    "print(\"==== String Matcher ====\\n\")\n",
    "\n",
    "def match_strings(str1, str2):\n",
    "    if str1 == str2:\n",
    "        return True\n",
    "    else:\n",
    "        return False\n",
    "\n",
    "# Take input from user\n",
    "string1 = input(\"Enter first string: \")\n",
    "string2 = input(\"Enter second string: \")\n",
    "\n",
    "# Check if they match\n",
    "if match_strings(string1, string2):\n",
    "    print(\"\\nThe strings match!\")\n",
    "else:\n",
    "    print(\"\\nThe strings do not match.\")\n"
   ]
  },
  {
   "cell_type": "code",
   "execution_count": 6,
   "id": "4404544c",
   "metadata": {},
   "outputs": [
    {
     "name": "stdout",
     "output_type": "stream",
     "text": [
      "==== Simple Login System ====\n",
      "\n",
      "\n",
      "Login Successful! Welcome, aliabbasqazi\n"
     ]
    }
   ],
   "source": [
    "# Lab 3 - Task 05\n",
    "# Write a Python program for a user login system using functions.\n",
    "\n",
    "print(\"==== Simple Login System ====\\n\")\n",
    "\n",
    "def login_system(username, password):\n",
    "    # Stored correct username and password\n",
    "    correct_username = \"aliabbasqazi\"\n",
    "    correct_password = \"22\"\n",
    "\n",
    "    if username == correct_username and password == correct_password:\n",
    "        return True\n",
    "    else:\n",
    "        return False\n",
    "\n",
    "# Take input from user\n",
    "user = input(\"Enter username: \")\n",
    "pwd = input(\"Enter password: \")\n",
    "\n",
    "# Check login\n",
    "if login_system(user, pwd):\n",
    "    print(\"\\nLogin Successful! Welcome,\", user)\n",
    "else:\n",
    "    print(\"\\nInvalid username or password. Please try again.\")\n"
   ]
  }
 ],
 "metadata": {
  "kernelspec": {
   "display_name": "Python 3",
   "language": "python",
   "name": "python3"
  },
  "language_info": {
   "codemirror_mode": {
    "name": "ipython",
    "version": 3
   },
   "file_extension": ".py",
   "mimetype": "text/x-python",
   "name": "python",
   "nbconvert_exporter": "python",
   "pygments_lexer": "ipython3",
   "version": "3.14.0"
  }
 },
 "nbformat": 4,
 "nbformat_minor": 5
}
