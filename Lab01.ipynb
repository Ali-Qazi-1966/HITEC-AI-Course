{
 "cells": [
  {
   "cell_type": "code",
   "execution_count": 2,
   "id": "ab74d006",
   "metadata": {},
   "outputs": [
    {
     "name": "stdout",
     "output_type": "stream",
     "text": [
      "==== Multiplication Table ====\n",
      "6 x 1 = 6\n",
      "6 x 2 = 12\n",
      "6 x 3 = 18\n",
      "6 x 4 = 24\n",
      "6 x 5 = 30\n",
      "6 x 6 = 36\n",
      "6 x 7 = 42\n",
      "6 x 8 = 48\n",
      "6 x 9 = 54\n",
      "6 x 10 = 60\n"
     ]
    }
   ],
   "source": [
    "# Task 01 \n",
    "# Write a Python Code to write the table of a number given by the user.\n",
    "\n",
    "print(\"==== Multiplication Table ====\")\n",
    "\n",
    "num = int(input(\"Enter a number = \"))\n",
    "\n",
    "for i in range(1, 11):\n",
    "    product = num * i\n",
    "    print(num, \"x\", i, \"=\", product)\n"
   ]
  },
  {
   "cell_type": "code",
   "execution_count": null,
   "id": "8f52f62b",
   "metadata": {},
   "outputs": [
    {
     "name": "stdout",
     "output_type": "stream",
     "text": [
      "==== Prime Number Checker ====\n",
      "7 is a prime number.\n"
     ]
    }
   ],
   "source": [
    "# Task 02\n",
    "# Write a Python Code to check whether a number is prime or not.\n",
    "\n",
    "print(\"==== Prime Number Checker ====\")\n",
    "\n",
    "num = int(input(\"Enter a number: \"))\n",
    "\n",
    "# Note: 0 and 1 are not prime numbers\n",
    "if num <= 1:\n",
    "    print(num, \"is not a prime number.\")\n",
    "else:\n",
    "    is_prime = True\n",
    "\n",
    "    for i in range(2, num):\n",
    "        if num % i == 0:\n",
    "            is_prime = False\n",
    "            break\n",
    "\n",
    "    if is_prime:\n",
    "        print(num, \"is a prime number.\")\n",
    "    else:\n",
    "        print(num, \"is not a prime number.\")\n"
   ]
  },
  {
   "cell_type": "code",
   "execution_count": null,
   "id": "205c1414",
   "metadata": {},
   "outputs": [
    {
     "name": "stdout",
     "output_type": "stream",
     "text": [
      "==== While Loop ====\n",
      "\n",
      "Numbers from 1 to 10:\n",
      "1\n",
      "2\n",
      "3\n",
      "4\n",
      "5\n",
      "6\n",
      "7\n",
      "8\n",
      "9\n",
      "10\n",
      "\n",
      "Even numbers between 1 and 20:\n",
      "2\n",
      "4\n",
      "6\n",
      "8\n",
      "10\n",
      "12\n",
      "14\n",
      "16\n",
      "18\n",
      "20\n"
     ]
    }
   ],
   "source": [
    "# Task 03\n",
    "# Write a Python program that prints numbers from 1 to 10 using a while loop.\n",
    "# Modify the while loop to print only even numbers between 1 and 20.\n",
    "\n",
    "print(\"==== While Loop ====\\n\")\n",
    "\n",
    "# Part 1: Print numbers from 1 to 10\n",
    "print(\"Numbers from 1 to 10:\")\n",
    "i = 1\n",
    "while i <= 10:\n",
    "    print(i)\n",
    "    i = i + 1\n",
    "\n",
    "print(\"\\nEven numbers between 1 and 20:\")\n",
    "\n",
    "# Part 2: Print even numbers between 1 and 20\n",
    "i = 2\n",
    "while i <= 20:\n",
    "    print(i)\n",
    "    i = i + 2\n"
   ]
  },
  {
   "cell_type": "code",
   "execution_count": 1,
   "id": "21358b41",
   "metadata": {},
   "outputs": [
    {
     "name": "stdout",
     "output_type": "stream",
     "text": [
      "==== Harshad Number Checker ====\n",
      "156 is a Harshad Number.\n"
     ]
    }
   ],
   "source": [
    "# Task 04\n",
    "# Write a Python program to determine whether the given number is a Harshad Number.\n",
    "\n",
    "print(\"==== Harshad Number Checker ====\")\n",
    "\n",
    "num = int(input(\"Enter a number = \"))\n",
    "\n",
    "# Find the sum of digits\n",
    "temp = num\n",
    "digit_sum = 0\n",
    "\n",
    "while temp > 0:     # running the loop until all digits are processed. Each time the loop runs, we’ll remove the last digit from temp\n",
    "    digit = temp % 10   # modulus gives the remainder after dividing by 10. This remainder is always the last digit of the number.\n",
    "    digit_sum = digit_sum + digit # We add this extracted digit to our running total.\n",
    "    temp = temp // 10   # integer division, meaning it removes the last digit.\n",
    "\n",
    "# Check if the number is divisible by the sum of its digits\n",
    "if num % digit_sum == 0:\n",
    "    print(num, \"is a Harshad Number.\")\n",
    "else:\n",
    "    print(num, \"is not a Harshad Number.\")\n",
    "\n",
    "# why so confusing :("
   ]
  }
 ],
 "metadata": {
  "kernelspec": {
   "display_name": "Python 3",
   "language": "python",
   "name": "python3"
  },
  "language_info": {
   "codemirror_mode": {
    "name": "ipython",
    "version": 3
   },
   "file_extension": ".py",
   "mimetype": "text/x-python",
   "name": "python",
   "nbconvert_exporter": "python",
   "pygments_lexer": "ipython3",
   "version": "3.14.0"
  }
 },
 "nbformat": 4,
 "nbformat_minor": 5
}
